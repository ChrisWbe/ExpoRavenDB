{
  "nbformat": 4,
  "nbformat_minor": 0,
  "metadata": {
    "colab": {
      "name": "RavenDB.ipynb",
      "provenance": [],
      "collapsed_sections": [],
      "toc_visible": true
    },
    "kernelspec": {
      "name": "python3",
      "display_name": "Python 3"
    },
    "language_info": {
      "name": "python"
    }
  },
  "cells": [
    {
      "cell_type": "code",
      "metadata": {
        "id": "xhAoCUyh90ip"
      },
      "source": [
        "import pandas as pd"
      ],
      "execution_count": 1,
      "outputs": []
    },
    {
      "cell_type": "code",
      "metadata": {
        "colab": {
          "base_uri": "https://localhost:8080/",
          "height": 206
        },
        "id": "LtfO3VCk94e0",
        "outputId": "537047bf-597f-44b8-9308-04009ac361c9"
      },
      "source": [
        "df_iris = pd.read_csv(\n",
        "    \"https://raw.githubusercontent.com/jdvelasq/datalabs/master/datasets/iris.csv\",\n",
        "    sep=',',\n",
        "    thousands=None,\n",
        "    decimal='.')\n",
        "df_iris.head()"
      ],
      "execution_count": 2,
      "outputs": [
        {
          "output_type": "execute_result",
          "data": {
            "text/html": [
              "<div>\n",
              "<style scoped>\n",
              "    .dataframe tbody tr th:only-of-type {\n",
              "        vertical-align: middle;\n",
              "    }\n",
              "\n",
              "    .dataframe tbody tr th {\n",
              "        vertical-align: top;\n",
              "    }\n",
              "\n",
              "    .dataframe thead th {\n",
              "        text-align: right;\n",
              "    }\n",
              "</style>\n",
              "<table border=\"1\" class=\"dataframe\">\n",
              "  <thead>\n",
              "    <tr style=\"text-align: right;\">\n",
              "      <th></th>\n",
              "      <th>Sepal_Length</th>\n",
              "      <th>Sepal_Width</th>\n",
              "      <th>Petal_Length</th>\n",
              "      <th>Petal_Width</th>\n",
              "      <th>Species</th>\n",
              "    </tr>\n",
              "  </thead>\n",
              "  <tbody>\n",
              "    <tr>\n",
              "      <th>0</th>\n",
              "      <td>5.1</td>\n",
              "      <td>3.5</td>\n",
              "      <td>1.4</td>\n",
              "      <td>0.2</td>\n",
              "      <td>setosa</td>\n",
              "    </tr>\n",
              "    <tr>\n",
              "      <th>1</th>\n",
              "      <td>4.9</td>\n",
              "      <td>3.0</td>\n",
              "      <td>1.4</td>\n",
              "      <td>0.2</td>\n",
              "      <td>setosa</td>\n",
              "    </tr>\n",
              "    <tr>\n",
              "      <th>2</th>\n",
              "      <td>4.7</td>\n",
              "      <td>3.2</td>\n",
              "      <td>1.3</td>\n",
              "      <td>0.2</td>\n",
              "      <td>setosa</td>\n",
              "    </tr>\n",
              "    <tr>\n",
              "      <th>3</th>\n",
              "      <td>4.6</td>\n",
              "      <td>3.1</td>\n",
              "      <td>1.5</td>\n",
              "      <td>0.2</td>\n",
              "      <td>setosa</td>\n",
              "    </tr>\n",
              "    <tr>\n",
              "      <th>4</th>\n",
              "      <td>5.0</td>\n",
              "      <td>3.6</td>\n",
              "      <td>1.4</td>\n",
              "      <td>0.2</td>\n",
              "      <td>setosa</td>\n",
              "    </tr>\n",
              "  </tbody>\n",
              "</table>\n",
              "</div>"
            ],
            "text/plain": [
              "   Sepal_Length  Sepal_Width  Petal_Length  Petal_Width Species\n",
              "0           5.1          3.5           1.4          0.2  setosa\n",
              "1           4.9          3.0           1.4          0.2  setosa\n",
              "2           4.7          3.2           1.3          0.2  setosa\n",
              "3           4.6          3.1           1.5          0.2  setosa\n",
              "4           5.0          3.6           1.4          0.2  setosa"
            ]
          },
          "metadata": {
            "tags": []
          },
          "execution_count": 2
        }
      ]
    },
    {
      "cell_type": "code",
      "metadata": {
        "colab": {
          "base_uri": "https://localhost:8080/",
          "height": 300
        },
        "id": "3RQy26-i-mvE",
        "outputId": "909d4ce1-f929-43ed-e165-4612a31faa0b"
      },
      "source": [
        "df_iris.describe()"
      ],
      "execution_count": 3,
      "outputs": [
        {
          "output_type": "execute_result",
          "data": {
            "text/html": [
              "<div>\n",
              "<style scoped>\n",
              "    .dataframe tbody tr th:only-of-type {\n",
              "        vertical-align: middle;\n",
              "    }\n",
              "\n",
              "    .dataframe tbody tr th {\n",
              "        vertical-align: top;\n",
              "    }\n",
              "\n",
              "    .dataframe thead th {\n",
              "        text-align: right;\n",
              "    }\n",
              "</style>\n",
              "<table border=\"1\" class=\"dataframe\">\n",
              "  <thead>\n",
              "    <tr style=\"text-align: right;\">\n",
              "      <th></th>\n",
              "      <th>Sepal_Length</th>\n",
              "      <th>Sepal_Width</th>\n",
              "      <th>Petal_Length</th>\n",
              "      <th>Petal_Width</th>\n",
              "    </tr>\n",
              "  </thead>\n",
              "  <tbody>\n",
              "    <tr>\n",
              "      <th>count</th>\n",
              "      <td>150.000000</td>\n",
              "      <td>150.000000</td>\n",
              "      <td>150.000000</td>\n",
              "      <td>150.000000</td>\n",
              "    </tr>\n",
              "    <tr>\n",
              "      <th>mean</th>\n",
              "      <td>5.843333</td>\n",
              "      <td>3.057333</td>\n",
              "      <td>3.758000</td>\n",
              "      <td>1.199333</td>\n",
              "    </tr>\n",
              "    <tr>\n",
              "      <th>std</th>\n",
              "      <td>0.828066</td>\n",
              "      <td>0.435866</td>\n",
              "      <td>1.765298</td>\n",
              "      <td>0.762238</td>\n",
              "    </tr>\n",
              "    <tr>\n",
              "      <th>min</th>\n",
              "      <td>4.300000</td>\n",
              "      <td>2.000000</td>\n",
              "      <td>1.000000</td>\n",
              "      <td>0.100000</td>\n",
              "    </tr>\n",
              "    <tr>\n",
              "      <th>25%</th>\n",
              "      <td>5.100000</td>\n",
              "      <td>2.800000</td>\n",
              "      <td>1.600000</td>\n",
              "      <td>0.300000</td>\n",
              "    </tr>\n",
              "    <tr>\n",
              "      <th>50%</th>\n",
              "      <td>5.800000</td>\n",
              "      <td>3.000000</td>\n",
              "      <td>4.350000</td>\n",
              "      <td>1.300000</td>\n",
              "    </tr>\n",
              "    <tr>\n",
              "      <th>75%</th>\n",
              "      <td>6.400000</td>\n",
              "      <td>3.300000</td>\n",
              "      <td>5.100000</td>\n",
              "      <td>1.800000</td>\n",
              "    </tr>\n",
              "    <tr>\n",
              "      <th>max</th>\n",
              "      <td>7.900000</td>\n",
              "      <td>4.400000</td>\n",
              "      <td>6.900000</td>\n",
              "      <td>2.500000</td>\n",
              "    </tr>\n",
              "  </tbody>\n",
              "</table>\n",
              "</div>"
            ],
            "text/plain": [
              "       Sepal_Length  Sepal_Width  Petal_Length  Petal_Width\n",
              "count    150.000000   150.000000    150.000000   150.000000\n",
              "mean       5.843333     3.057333      3.758000     1.199333\n",
              "std        0.828066     0.435866      1.765298     0.762238\n",
              "min        4.300000     2.000000      1.000000     0.100000\n",
              "25%        5.100000     2.800000      1.600000     0.300000\n",
              "50%        5.800000     3.000000      4.350000     1.300000\n",
              "75%        6.400000     3.300000      5.100000     1.800000\n",
              "max        7.900000     4.400000      6.900000     2.500000"
            ]
          },
          "metadata": {
            "tags": []
          },
          "execution_count": 3
        }
      ]
    },
    {
      "cell_type": "code",
      "metadata": {
        "colab": {
          "base_uri": "https://localhost:8080/"
        },
        "id": "Q6Qe_92w-ux3",
        "outputId": "5977712f-90a3-4344-d823-45034923c5b5"
      },
      "source": [
        "df_iris.dtypes"
      ],
      "execution_count": 4,
      "outputs": [
        {
          "output_type": "execute_result",
          "data": {
            "text/plain": [
              "Sepal_Length    float64\n",
              "Sepal_Width     float64\n",
              "Petal_Length    float64\n",
              "Petal_Width     float64\n",
              "Species          object\n",
              "dtype: object"
            ]
          },
          "metadata": {
            "tags": []
          },
          "execution_count": 4
        }
      ]
    },
    {
      "cell_type": "code",
      "metadata": {
        "id": "JDzNovML_I3p"
      },
      "source": [
        "class Iris(object):\n",
        "  def __init__(self, Sepal_Length, Sepal_Width, Petal_Length,Petal_Width,Species):\n",
        "    self.Sepal_Length=Sepal_Length,\n",
        "    self.Sepal_Width=Sepal_Width,\n",
        "    self.Petal_Length=Petal_Length,\n",
        "    self.Petal_Width=Petal_Width,\n",
        "    self.Species=Species"
      ],
      "execution_count": 5,
      "outputs": []
    },
    {
      "cell_type": "markdown",
      "metadata": {
        "id": "gqLSlSxOgSP5"
      },
      "source": [
        "#RavenDB\n",
        "##Ejemplos"
      ]
    },
    {
      "cell_type": "code",
      "metadata": {
        "colab": {
          "base_uri": "https://localhost:8080/"
        },
        "id": "drgSIGurf8wr",
        "outputId": "7962f1ad-8953-46da-d82e-7a90312cdb21"
      },
      "source": [
        "#Instalación del cliente - https://pypi.org/project/pyravendb/\n",
        "!pip install pyravendb"
      ],
      "execution_count": 6,
      "outputs": [
        {
          "output_type": "stream",
          "text": [
            "Collecting pyravendb\n",
            "\u001b[?25l  Downloading https://files.pythonhosted.org/packages/0f/36/70eb1ee0c92914304372f94694abce0d7a8255a4c56d8e5790c6544fcaa3/pyravendb-5.0.0.1-py3-none-any.whl (116kB)\n",
            "\u001b[K     |████████████████████████████████| 122kB 5.3MB/s \n",
            "\u001b[?25hCollecting ijson==2.3\n",
            "  Downloading https://files.pythonhosted.org/packages/7f/e9/8508c5f4987ba238a2b169e582c1f70a47272b22a2f1fb06b9318201bb9e/ijson-2.3-py2.py3-none-any.whl\n",
            "Collecting websocket-client>=0.46.0\n",
            "\u001b[?25l  Downloading https://files.pythonhosted.org/packages/08/33/80e0d4f60e84a1ddd9a03f340be1065a2a363c47ce65c4bd3bae65ce9631/websocket_client-0.58.0-py2.py3-none-any.whl (61kB)\n",
            "\u001b[K     |████████████████████████████████| 61kB 3.5MB/s \n",
            "\u001b[?25hRequirement already satisfied: inflect>=1.0.0 in /usr/local/lib/python3.7/dist-packages (from pyravendb) (2.1.0)\n",
            "Collecting pyOpenSSL>=17.2.0\n",
            "\u001b[?25l  Downloading https://files.pythonhosted.org/packages/b2/5e/06351ede29fd4899782ad335c2e02f1f862a887c20a3541f17c3fa1a3525/pyOpenSSL-20.0.1-py2.py3-none-any.whl (54kB)\n",
            "\u001b[K     |████████████████████████████████| 61kB 4.3MB/s \n",
            "\u001b[?25hRequirement already satisfied: requests>=2.18.4 in /usr/local/lib/python3.7/dist-packages (from pyravendb) (2.23.0)\n",
            "Collecting requests-pkcs12>=1.7\n",
            "  Downloading https://files.pythonhosted.org/packages/c9/be/605fa4e2371649680f3e6e96f392cfd52c7f49be620944caca53ebeb04b8/requests_pkcs12-1.9-py2.py3-none-any.whl\n",
            "Requirement already satisfied: six in /usr/local/lib/python3.7/dist-packages (from websocket-client>=0.46.0->pyravendb) (1.15.0)\n",
            "Collecting cryptography>=3.2\n",
            "\u001b[?25l  Downloading https://files.pythonhosted.org/packages/b2/26/7af637e6a7e87258b963f1731c5982fb31cd507f0d90d91836e446955d02/cryptography-3.4.7-cp36-abi3-manylinux2014_x86_64.whl (3.2MB)\n",
            "\u001b[K     |████████████████████████████████| 3.2MB 6.4MB/s \n",
            "\u001b[?25hRequirement already satisfied: idna<3,>=2.5 in /usr/local/lib/python3.7/dist-packages (from requests>=2.18.4->pyravendb) (2.10)\n",
            "Requirement already satisfied: chardet<4,>=3.0.2 in /usr/local/lib/python3.7/dist-packages (from requests>=2.18.4->pyravendb) (3.0.4)\n",
            "Requirement already satisfied: urllib3!=1.25.0,!=1.25.1,<1.26,>=1.21.1 in /usr/local/lib/python3.7/dist-packages (from requests>=2.18.4->pyravendb) (1.24.3)\n",
            "Requirement already satisfied: certifi>=2017.4.17 in /usr/local/lib/python3.7/dist-packages (from requests>=2.18.4->pyravendb) (2020.12.5)\n",
            "Requirement already satisfied: cffi>=1.12 in /usr/local/lib/python3.7/dist-packages (from cryptography>=3.2->pyOpenSSL>=17.2.0->pyravendb) (1.14.5)\n",
            "Requirement already satisfied: pycparser in /usr/local/lib/python3.7/dist-packages (from cffi>=1.12->cryptography>=3.2->pyOpenSSL>=17.2.0->pyravendb) (2.20)\n",
            "Installing collected packages: ijson, websocket-client, cryptography, pyOpenSSL, requests-pkcs12, pyravendb\n",
            "Successfully installed cryptography-3.4.7 ijson-2.3 pyOpenSSL-20.0.1 pyravendb-5.0.0.1 requests-pkcs12-1.9 websocket-client-0.58.0\n"
          ],
          "name": "stdout"
        }
      ]
    },
    {
      "cell_type": "markdown",
      "metadata": {
        "id": "ufI2T9PCjJpL"
      },
      "source": [
        "Antes de continuar se crearán datos de ejemplo - https://ravendb.net/docs/article-page/4.2/java/studio/database/tasks/create-sample-data"
      ]
    },
    {
      "cell_type": "markdown",
      "metadata": {
        "id": "KWlcSgjgjVoO"
      },
      "source": [
        "##DocumentStore\n",
        "Se debe crear una instancia de DocumentStorage, es el punto de entrada principal, es el responsable de establecer y administrar las conexiones entre el servidor o cluster y nuestra aplicación"
      ]
    },
    {
      "cell_type": "code",
      "metadata": {
        "id": "osQhrcLao7Rt"
      },
      "source": [
        "from pyravendb.store import document_store\n"
      ],
      "execution_count": 7,
      "outputs": []
    },
    {
      "cell_type": "code",
      "metadata": {
        "id": "IWvODNK3gOrA"
      },
      "source": [
        "store = document_store.DocumentStore(urls=['http://live-test.ravendb.net'], database='DB-SAMPLE')\n",
        "store.initialize()"
      ],
      "execution_count": 8,
      "outputs": []
    },
    {
      "cell_type": "markdown",
      "metadata": {
        "id": "Qo2KHDifknHJ"
      },
      "source": [
        "DocumentStore es capaz de trabajar con multiples bases de datos, para un funcionamiento adecuado se recomienda una sola instancia por aplicación"
      ]
    },
    {
      "cell_type": "markdown",
      "metadata": {
        "id": "T1nOOg2ylXuB"
      },
      "source": [
        "##Session\n",
        "Session se utiliza para manipular los datos, a diferencia de DocumentStore es ligero y se puede crear con más frecuencia, se recomienda crear sesiones por solicitud."
      ]
    },
    {
      "cell_type": "markdown",
      "metadata": {
        "id": "GJGBSRXHl1Kn"
      },
      "source": [
        "###Ejemplo1 - CREATE\n",
        "RavenDB es una base de datos de documentos. Todos los objetos almacenados se denominan <b><i>documents</i></b>. Cada documentos contiene un <b>ID</b> unico que lo identifica, datos y metadatos adyacentes, ambos almacenados en formato JSON."
      ]
    },
    {
      "cell_type": "code",
      "metadata": {
        "id": "3UqCWtiFlVZ6"
      },
      "source": [
        "with store.open_session() as session:\n",
        "  for i in range(len(df_iris)):\n",
        "    session.store(Iris(\n",
        "      df_iris.loc[i,'Sepal_Length'], \n",
        "      df_iris.loc[i,'Sepal_Width'],\n",
        "      df_iris.loc[i,'Petal_Length'],\n",
        "      df_iris.loc[i,'Petal_Width'],\n",
        "      df_iris.loc[i,'Species'],\n",
        "      \n",
        "      ),key=\"iris/\"+str(i))\n",
        "  session.save_changes()"
      ],
      "execution_count": 10,
      "outputs": []
    },
    {
      "cell_type": "markdown",
      "metadata": {
        "id": "frU5OzCXoLa2"
      },
      "source": [
        "###Ejemplo2 - READ\n"
      ]
    },
    {
      "cell_type": "code",
      "metadata": {
        "id": "9Tur22WPnDyK",
        "colab": {
          "base_uri": "https://localhost:8080/"
        },
        "outputId": "d1b0160b-fe4c-4a83-db6d-d103ec1e03ca"
      },
      "source": [
        "with store.open_session() as session:\n",
        "  iris = session.load(\"iris/100\",object_type=Iris)\n",
        "  print(iris.Species)\n",
        "\n",
        "  irisList = ['iris/100','iris/99','iris/1','iris/0']\n",
        "  irises = session.load(irisList)\n",
        "  [print(x.Species) for x in irises]\n",
        "  "
      ],
      "execution_count": 12,
      "outputs": [
        {
          "output_type": "stream",
          "text": [
            "virginica\n",
            "virginica\n",
            "versicolor\n",
            "setosa\n",
            "setosa\n"
          ],
          "name": "stdout"
        }
      ]
    },
    {
      "cell_type": "markdown",
      "metadata": {
        "id": "3L2HV1ThsNzv"
      },
      "source": [
        "##Ejemplo3 - UPDATE\n",
        "El metodo save_changes sincronizará (con el servidor) solo los documentos que se han cambiado dentro de la sesión. Todos los cambios se envían en una solicitud (ahorro de llamadas de red) y se procesan en una transacción."
      ]
    },
    {
      "cell_type": "code",
      "metadata": {
        "id": "csxgPqK_sNgu"
      },
      "source": [
        "with store.open_session() as session:\n",
        "  iris = session.load(\"iris/100\", object_type=Iris)\n",
        "  iris.Species = 'virginica'\n",
        "  session.save_changes()"
      ],
      "execution_count": null,
      "outputs": []
    },
    {
      "cell_type": "markdown",
      "metadata": {
        "id": "ZWxA0RxkuSvH"
      },
      "source": [
        "##Ejemplo4 - DELETE"
      ]
    },
    {
      "cell_type": "code",
      "metadata": {
        "id": "JigUN8lJuXD3"
      },
      "source": [
        "with store.open_session() as session:\n",
        "  session.delete(\"iris/100\")\n",
        "  session.save_changes()"
      ],
      "execution_count": null,
      "outputs": []
    },
    {
      "cell_type": "code",
      "metadata": {
        "id": "IPaILjLiK95Q"
      },
      "source": [
        "with store.open_session()as session:\n",
        "  session.store(Iris(\n",
        "      df_iris.loc[100,'Sepal_Length'], \n",
        "      df_iris.loc[100,'Sepal_Width'],\n",
        "      df_iris.loc[100,'Petal_Length'],\n",
        "      df_iris.loc[100,'Petal_Width'],\n",
        "      df_iris.loc[100,'Species'],\n",
        "      \n",
        "      ),key=\"iris/\"+str(100))\n",
        "  session.save_changes()"
      ],
      "execution_count": null,
      "outputs": []
    },
    {
      "cell_type": "markdown",
      "metadata": {
        "id": "qZ1wF5Bby1K_"
      },
      "source": [
        "##Ejemplo5 - *Query*\n",
        "\n",
        "Cuando no se especifica ningún índice en la consulta (como en la consulta a continuación), RavenDB utilizará su función de autoindexación inteligente que utilizará un índice ya existente o creará uno nuevo si no se encuentra ninguna coincidencia. La otra opción es escribir el índice usted mismo e implementarlo en el servidor. Esos índices se denominan índices estáticos."
      ]
    },
    {
      "cell_type": "code",
      "metadata": {
        "id": "rD3yvxKSKMvf",
        "colab": {
          "base_uri": "https://localhost:8080/"
        },
        "outputId": "59f0565e-4009-4ad8-c37e-a30cb8951fa3"
      },
      "source": [
        "with store.open_session() as session:\n",
        "  housing_list = list(\n",
        "      session\n",
        "        .query(object_type=Iris)\n",
        "        .where(Species='setosa')\n",
        "        .select('Sepal_Length')\n",
        "\n",
        "  )\n",
        "  [print(x.Sepal_Length) for x in housing_list]"
      ],
      "execution_count": 13,
      "outputs": [
        {
          "output_type": "stream",
          "text": [
            "([5.1],)\n",
            "([4.9],)\n",
            "([4.7],)\n",
            "([4.6],)\n",
            "([5.0],)\n",
            "([5.4],)\n",
            "([4.6],)\n",
            "([5.0],)\n",
            "([4.4],)\n",
            "([4.9],)\n",
            "([5.4],)\n",
            "([4.8],)\n",
            "([4.8],)\n",
            "([4.3],)\n",
            "([5.8],)\n",
            "([5.7],)\n",
            "([5.4],)\n",
            "([5.1],)\n",
            "([5.7],)\n",
            "([5.1],)\n",
            "([5.4],)\n",
            "([5.1],)\n",
            "([4.6],)\n",
            "([5.1],)\n",
            "([4.8],)\n",
            "([5.0],)\n",
            "([5.0],)\n",
            "([5.2],)\n",
            "([5.2],)\n",
            "([4.7],)\n",
            "([4.8],)\n",
            "([5.4],)\n",
            "([5.2],)\n",
            "([5.5],)\n",
            "([4.9],)\n",
            "([5.0],)\n",
            "([5.5],)\n",
            "([4.9],)\n",
            "([4.4],)\n",
            "([5.1],)\n",
            "([5.0],)\n",
            "([4.5],)\n",
            "([4.4],)\n",
            "([5.0],)\n",
            "([5.1],)\n",
            "([4.8],)\n",
            "([5.1],)\n",
            "([4.6],)\n",
            "([5.3],)\n",
            "([5.0],)\n"
          ],
          "name": "stdout"
        }
      ]
    },
    {
      "cell_type": "markdown",
      "metadata": {
        "id": "eV0ATVE2VP_A"
      },
      "source": [
        "##Ejemplo6 - MapReduce"
      ]
    },
    {
      "cell_type": "markdown",
      "metadata": {
        "id": "GwIZ9HmfcoQj"
      },
      "source": [
        "Conteo y Ganancias por Proveedor y categoría, siempre y cuando el precio por producto sea mayor a 10 y el producto no esté descontinuado.\n",
        "\n",
        "```\n",
        "# MapReduce\n",
        "// Map Function:\n",
        "map('Products', (product) => { \n",
        "    if (product.PricePerUnit > 10 && product.Discontinued !== false) {\n",
        "        return { \n",
        "            Supplier: product.Supplier, \n",
        "            Category: product.Category,\n",
        "            Count: 1,\n",
        "            Revenue: product.UnitsOnOrder * product.PricePerUnit\n",
        "        };\n",
        "    }\n",
        "})\n",
        "\n",
        "// Reduce Function:\n",
        "groupBy(x => ({ Supplier: x.Supplier, Category: x.Category }))\n",
        ".aggregate(g => { \n",
        "    return {\n",
        "        Supplier: g.key.Supplier,\n",
        "        Category: g.key.Category,\n",
        "        Count: g.values.reduce((count, val) => val.Count + count, 0),\n",
        "        Revenue: g.values.reduce((amount, val) => val.Revenue + amount, 0)\n",
        "    };\n",
        "})\n",
        "```\n",
        "\n"
      ]
    },
    {
      "cell_type": "markdown",
      "metadata": {
        "id": "62p3RzHd_vna"
      },
      "source": [
        "##Bibliografia\n",
        "https://hub.docker.com/r/ravendb/ravendb/<br>\n",
        "https://ravendb.net/docs/article-page/4.2/java/start/getting-started#client<br>\n",
        "https://ravendb.net/docs/article-page/4.2/java/studio/database/indexes/create-map-reduce-index<br>\n",
        "https://github.com/ravendb/ravendb-python-client<br>\n"
      ]
    },
    {
      "cell_type": "markdown",
      "metadata": {
        "id": "x7Sg-n8phBko"
      },
      "source": [
        "#Ejercicios"
      ]
    },
    {
      "cell_type": "markdown",
      "metadata": {
        "id": "Iv0YU79OhG0s"
      },
      "source": [
        "##1 -  El programa MapReduce debe imprimir cada especie de flor (setosa, versicolor, virginica) y la cantidad de documentos con dicha especie\n"
      ]
    },
    {
      "cell_type": "code",
      "metadata": {
        "colab": {
          "base_uri": "https://localhost:8080/",
          "height": 144
        },
        "id": "nKHAaFAihFyy",
        "outputId": "a642523b-66bc-444e-f626-90a59f49084d"
      },
      "source": [
        "df_ejercicio1 = pd.read_csv('ejercicio1.csv')\n",
        "df_ejercicio1"
      ],
      "execution_count": 2,
      "outputs": [
        {
          "output_type": "execute_result",
          "data": {
            "text/html": [
              "<div>\n",
              "<style scoped>\n",
              "    .dataframe tbody tr th:only-of-type {\n",
              "        vertical-align: middle;\n",
              "    }\n",
              "\n",
              "    .dataframe tbody tr th {\n",
              "        vertical-align: top;\n",
              "    }\n",
              "\n",
              "    .dataframe thead th {\n",
              "        text-align: right;\n",
              "    }\n",
              "</style>\n",
              "<table border=\"1\" class=\"dataframe\">\n",
              "  <thead>\n",
              "    <tr style=\"text-align: right;\">\n",
              "      <th></th>\n",
              "      <th>Species</th>\n",
              "      <th>Count</th>\n",
              "    </tr>\n",
              "  </thead>\n",
              "  <tbody>\n",
              "    <tr>\n",
              "      <th>0</th>\n",
              "      <td>setosa</td>\n",
              "      <td>50</td>\n",
              "    </tr>\n",
              "    <tr>\n",
              "      <th>1</th>\n",
              "      <td>versicolor</td>\n",
              "      <td>50</td>\n",
              "    </tr>\n",
              "    <tr>\n",
              "      <th>2</th>\n",
              "      <td>virginica</td>\n",
              "      <td>50</td>\n",
              "    </tr>\n",
              "  </tbody>\n",
              "</table>\n",
              "</div>"
            ],
            "text/plain": [
              "      Species  Count\n",
              "0      setosa     50\n",
              "1  versicolor     50\n",
              "2   virginica     50"
            ]
          },
          "metadata": {
            "tags": []
          },
          "execution_count": 2
        }
      ]
    },
    {
      "cell_type": "markdown",
      "metadata": {
        "id": "laE7f5nEif-E"
      },
      "source": [
        "##2 - El programa MapReduce debe imprimir cada una de las categorías existentes de la colección <b>Products</b>, la cantidad de productos por categoría y las ganancias asociadas a cada categoría (Precio de cada unidad x unidades en la orden)"
      ]
    },
    {
      "cell_type": "code",
      "metadata": {
        "colab": {
          "base_uri": "https://localhost:8080/",
          "height": 300
        },
        "id": "mSf3iq_Yiawa",
        "outputId": "f489c416-ba22-4a54-c092-4ca2fbf88080"
      },
      "source": [
        "df_ejercicio2=pd.read_csv('ejercicio2.csv')\n",
        "df_ejercicio2"
      ],
      "execution_count": 3,
      "outputs": [
        {
          "output_type": "execute_result",
          "data": {
            "text/html": [
              "<div>\n",
              "<style scoped>\n",
              "    .dataframe tbody tr th:only-of-type {\n",
              "        vertical-align: middle;\n",
              "    }\n",
              "\n",
              "    .dataframe tbody tr th {\n",
              "        vertical-align: top;\n",
              "    }\n",
              "\n",
              "    .dataframe thead th {\n",
              "        text-align: right;\n",
              "    }\n",
              "</style>\n",
              "<table border=\"1\" class=\"dataframe\">\n",
              "  <thead>\n",
              "    <tr style=\"text-align: right;\">\n",
              "      <th></th>\n",
              "      <th>Category</th>\n",
              "      <th>Count</th>\n",
              "      <th>Revenue</th>\n",
              "    </tr>\n",
              "  </thead>\n",
              "  <tbody>\n",
              "    <tr>\n",
              "      <th>0</th>\n",
              "      <td>categories/1-A</td>\n",
              "      <td>10</td>\n",
              "      <td>11421.50</td>\n",
              "    </tr>\n",
              "    <tr>\n",
              "      <th>1</th>\n",
              "      <td>categories/2-A</td>\n",
              "      <td>11</td>\n",
              "      <td>11893.55</td>\n",
              "    </tr>\n",
              "    <tr>\n",
              "      <th>2</th>\n",
              "      <td>categories/7-A</td>\n",
              "      <td>4</td>\n",
              "      <td>3509.35</td>\n",
              "    </tr>\n",
              "    <tr>\n",
              "      <th>3</th>\n",
              "      <td>categories/6-A</td>\n",
              "      <td>5</td>\n",
              "      <td>5573.00</td>\n",
              "    </tr>\n",
              "    <tr>\n",
              "      <th>4</th>\n",
              "      <td>categories/8-A</td>\n",
              "      <td>9</td>\n",
              "      <td>11998.60</td>\n",
              "    </tr>\n",
              "    <tr>\n",
              "      <th>5</th>\n",
              "      <td>categories/4-A</td>\n",
              "      <td>9</td>\n",
              "      <td>10991.20</td>\n",
              "    </tr>\n",
              "    <tr>\n",
              "      <th>6</th>\n",
              "      <td>categories/3-A</td>\n",
              "      <td>10</td>\n",
              "      <td>9790.20</td>\n",
              "    </tr>\n",
              "    <tr>\n",
              "      <th>7</th>\n",
              "      <td>categories/5-A</td>\n",
              "      <td>5</td>\n",
              "      <td>4779.50</td>\n",
              "    </tr>\n",
              "  </tbody>\n",
              "</table>\n",
              "</div>"
            ],
            "text/plain": [
              "         Category  Count   Revenue\n",
              "0  categories/1-A     10  11421.50\n",
              "1  categories/2-A     11  11893.55\n",
              "2  categories/7-A      4   3509.35\n",
              "3  categories/6-A      5   5573.00\n",
              "4  categories/8-A      9  11998.60\n",
              "5  categories/4-A      9  10991.20\n",
              "6  categories/3-A     10   9790.20\n",
              "7  categories/5-A      5   4779.50"
            ]
          },
          "metadata": {
            "tags": []
          },
          "execution_count": 3
        }
      ]
    },
    {
      "cell_type": "markdown",
      "metadata": {
        "id": "MEM0hNM6mtgG"
      },
      "source": [
        "##3 - El programa MapReduce debe imprimir Pais y Ciudad de la colección <b>Orders</b>, la cantidad de productos por orden realizada, las ganancias obtenidas en esa orden y la cantidad de ordenes realizadas."
      ]
    },
    {
      "cell_type": "code",
      "metadata": {
        "colab": {
          "base_uri": "https://localhost:8080/",
          "height": 424
        },
        "id": "skcLSBuin8zh",
        "outputId": "e18ad4c8-790b-4cf8-c128-b1ad699877d1"
      },
      "source": [
        "df_ejercicio3=pd.read_csv('ejercicio3.csv')\n",
        "df_ejercicio3"
      ],
      "execution_count": 4,
      "outputs": [
        {
          "output_type": "execute_result",
          "data": {
            "text/html": [
              "<div>\n",
              "<style scoped>\n",
              "    .dataframe tbody tr th:only-of-type {\n",
              "        vertical-align: middle;\n",
              "    }\n",
              "\n",
              "    .dataframe tbody tr th {\n",
              "        vertical-align: top;\n",
              "    }\n",
              "\n",
              "    .dataframe thead th {\n",
              "        text-align: right;\n",
              "    }\n",
              "</style>\n",
              "<table border=\"1\" class=\"dataframe\">\n",
              "  <thead>\n",
              "    <tr style=\"text-align: right;\">\n",
              "      <th></th>\n",
              "      <th>Country</th>\n",
              "      <th>City</th>\n",
              "      <th>Quantity</th>\n",
              "      <th>Revenue</th>\n",
              "      <th>Count</th>\n",
              "    </tr>\n",
              "  </thead>\n",
              "  <tbody>\n",
              "    <tr>\n",
              "      <th>0</th>\n",
              "      <td>France</td>\n",
              "      <td>Reims</td>\n",
              "      <td>98</td>\n",
              "      <td>1480.00</td>\n",
              "      <td>5</td>\n",
              "    </tr>\n",
              "    <tr>\n",
              "      <th>1</th>\n",
              "      <td>Germany</td>\n",
              "      <td>Münster</td>\n",
              "      <td>253</td>\n",
              "      <td>4954.00</td>\n",
              "      <td>6</td>\n",
              "    </tr>\n",
              "    <tr>\n",
              "      <th>2</th>\n",
              "      <td>Brazil</td>\n",
              "      <td>Rio de Janeiro</td>\n",
              "      <td>1893</td>\n",
              "      <td>53999.18</td>\n",
              "      <td>34</td>\n",
              "    </tr>\n",
              "    <tr>\n",
              "      <th>3</th>\n",
              "      <td>France</td>\n",
              "      <td>Lyon</td>\n",
              "      <td>434</td>\n",
              "      <td>9937.10</td>\n",
              "      <td>10</td>\n",
              "    </tr>\n",
              "    <tr>\n",
              "      <th>4</th>\n",
              "      <td>Belgium</td>\n",
              "      <td>Charleroi</td>\n",
              "      <td>1072</td>\n",
              "      <td>24704.40</td>\n",
              "      <td>12</td>\n",
              "    </tr>\n",
              "    <tr>\n",
              "      <th>...</th>\n",
              "      <td>...</td>\n",
              "      <td>...</td>\n",
              "      <td>...</td>\n",
              "      <td>...</td>\n",
              "      <td>...</td>\n",
              "    </tr>\n",
              "    <tr>\n",
              "      <th>65</th>\n",
              "      <td>Finland</td>\n",
              "      <td>Helsinki</td>\n",
              "      <td>148</td>\n",
              "      <td>3161.35</td>\n",
              "      <td>7</td>\n",
              "    </tr>\n",
              "    <tr>\n",
              "      <th>66</th>\n",
              "      <td>USA</td>\n",
              "      <td>Butte</td>\n",
              "      <td>59</td>\n",
              "      <td>1947.24</td>\n",
              "      <td>3</td>\n",
              "    </tr>\n",
              "    <tr>\n",
              "      <th>67</th>\n",
              "      <td>Germany</td>\n",
              "      <td>Berlin</td>\n",
              "      <td>174</td>\n",
              "      <td>4596.20</td>\n",
              "      <td>6</td>\n",
              "    </tr>\n",
              "    <tr>\n",
              "      <th>68</th>\n",
              "      <td>France</td>\n",
              "      <td>Paris</td>\n",
              "      <td>48</td>\n",
              "      <td>2423.35</td>\n",
              "      <td>4</td>\n",
              "    </tr>\n",
              "    <tr>\n",
              "      <th>69</th>\n",
              "      <td>France</td>\n",
              "      <td>Versailles</td>\n",
              "      <td>83</td>\n",
              "      <td>1992.05</td>\n",
              "      <td>4</td>\n",
              "    </tr>\n",
              "  </tbody>\n",
              "</table>\n",
              "<p>70 rows × 5 columns</p>\n",
              "</div>"
            ],
            "text/plain": [
              "    Country            City  Quantity   Revenue  Count\n",
              "0    France           Reims        98   1480.00      5\n",
              "1   Germany         Münster       253   4954.00      6\n",
              "2    Brazil  Rio de Janeiro      1893  53999.18     34\n",
              "3    France            Lyon       434   9937.10     10\n",
              "4   Belgium       Charleroi      1072  24704.40     12\n",
              "..      ...             ...       ...       ...    ...\n",
              "65  Finland        Helsinki       148   3161.35      7\n",
              "66      USA           Butte        59   1947.24      3\n",
              "67  Germany          Berlin       174   4596.20      6\n",
              "68   France           Paris        48   2423.35      4\n",
              "69   France      Versailles        83   1992.05      4\n",
              "\n",
              "[70 rows x 5 columns]"
            ]
          },
          "metadata": {
            "tags": []
          },
          "execution_count": 4
        }
      ]
    }
  ]
}